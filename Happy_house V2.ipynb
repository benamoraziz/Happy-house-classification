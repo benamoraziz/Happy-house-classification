{
 "cells": [
  {
   "cell_type": "markdown",
   "metadata": {
    "colab_type": "text",
    "id": "2th5H5b1hbcS"
   },
   "source": [
    "# If you happy and I know it you can enter my House \n",
    "\n",
    "You'll see how you can in a couple of hours build a deep learning algorithm."
   ]
  },
  {
   "cell_type": "code",
   "execution_count": 1,
   "metadata": {
    "colab": {
     "base_uri": "https://localhost:8080/",
     "height": 73
    },
    "colab_type": "code",
    "id": "MuU-RPhvflcW",
    "outputId": "d28295fe-ea4e-4da2-9f7e-b276c2543574"
   },
   "outputs": [],
   "source": [
    "import numpy as np\n",
    "from sklearn.metrics import confusion_matrix\n",
    "import seaborn as sns\n",
    "import h5py\n",
    "from keras import layers\n",
    "from keras.layers import Input, Dense, Activation, ZeroPadding2D, BatchNormalization, Flatten, Conv2D\n",
    "from keras.layers import AveragePooling2D, MaxPooling2D, Dropout, GlobalMaxPooling2D, GlobalAveragePooling2D\n",
    "from keras.models import Model\n",
    "from keras.preprocessing import image\n",
    "from keras.utils import layer_utils\n",
    "from keras.utils.data_utils import get_file\n",
    "from keras.applications.imagenet_utils import preprocess_input\n",
    "from keras.models import Sequential\n",
    "\n",
    "import pydot\n",
    "from IPython.display import SVG\n",
    "\n",
    "\n",
    "import keras.backend as K\n",
    "K.set_image_data_format('channels_last')\n",
    "import matplotlib.pyplot as plt\n",
    "from matplotlib.pyplot import imshow\n"
   ]
  },
  {
   "cell_type": "code",
   "execution_count": 2,
   "metadata": {
    "colab": {},
    "colab_type": "code",
    "id": "4Z7gBX7YfTRL"
   },
   "outputs": [],
   "source": [
    "def load_dataset(path_to_train, path_to_test):\n",
    "    train_dataset = h5py.File(path_to_train)\n",
    "    train_x = np.array(train_dataset['train_set_x'][:])\n",
    "    train_y = np.array(train_dataset['train_set_y'][:])\n",
    "\n",
    "    test_dataset = h5py.File(path_to_test)\n",
    "    test_x = np.array(test_dataset['test_set_x'][:])\n",
    "    test_y = np.array(test_dataset['test_set_y'][:])\n",
    "\n",
    "    # y reshaped\n",
    "    train_y = train_y.reshape((1, train_x.shape[0]))\n",
    "    test_y = test_y.reshape((1, test_y.shape[0]))\n",
    "\n",
    "    return train_x, train_y, test_x, test_y"
   ]
  },
  {
   "cell_type": "markdown",
   "metadata": {
    "colab_type": "text",
    "id": "s0shUMnCg9GK"
   },
   "source": [
    "This dataset can be used to solve the Happy House problem.\n",
    "Where, we allow a person to enter the house only if he/she is smiling!\n",
    "So, a smile detector!\n"
   ]
  },
  {
   "cell_type": "markdown",
   "metadata": {
    "colab_type": "text",
    "id": "LF7js4UdhO0F"
   },
   "source": [
    "![Texte alternatif…](https://raw.githubusercontent.com/Kulbear/deep-learning-coursera/master/Convolutional%20Neural%20Networks/images/house-members.png)"
   ]
  },
  {
   "cell_type": "markdown",
   "metadata": {
    "colab_type": "text",
    "id": "roksQQtvizn4"
   },
   "source": [
    "\n",
    "\n",
    "Details of the \"Happy\" dataset:\n",
    "\n",
    "* Images are of shape (64,64,3)\n",
    "* Training: 600 pictures\n",
    "* Test: 150 pictures\n"
   ]
  },
  {
   "cell_type": "markdown",
   "metadata": {
    "colab_type": "text",
    "id": "z9hCBeyJi--_"
   },
   "source": [
    "# Load Dataset"
   ]
  },
  {
   "cell_type": "code",
   "execution_count": 3,
   "metadata": {
    "colab": {
     "base_uri": "https://localhost:8080/",
     "height": 216
    },
    "colab_type": "code",
    "id": "nOZo0cNbg8ts",
    "outputId": "6a0c4a30-23e8-4b60-f37f-d74aedca03b5"
   },
   "outputs": [
    {
     "name": "stderr",
     "output_type": "stream",
     "text": [
      "C:\\Users\\hp\\anaconda3\\lib\\site-packages\\ipykernel_launcher.py:2: H5pyDeprecationWarning: The default file mode will change to 'r' (read-only) in h5py 3.0. To suppress this warning, pass the mode you need to h5py.File(), or set the global default h5.get_config().default_file_mode, or set the environment variable H5PY_DEFAULT_READONLY=1. Available modes are: 'r', 'r+', 'w', 'w-'/'x', 'a'. See the docs for details.\n",
      "  \n"
     ]
    },
    {
     "name": "stdout",
     "output_type": "stream",
     "text": [
      "number of training examples = 600\n",
      "number of test examples = 150\n",
      "X_train shape: (600, 64, 64, 3)\n",
      "Y_train shape: (600, 1)\n",
      "X_test shape: (150, 64, 64, 3)\n",
      "Y_test shape: (150, 1)\n"
     ]
    },
    {
     "name": "stderr",
     "output_type": "stream",
     "text": [
      "C:\\Users\\hp\\anaconda3\\lib\\site-packages\\ipykernel_launcher.py:6: H5pyDeprecationWarning: The default file mode will change to 'r' (read-only) in h5py 3.0. To suppress this warning, pass the mode you need to h5py.File(), or set the global default h5.get_config().default_file_mode, or set the environment variable H5PY_DEFAULT_READONLY=1. Available modes are: 'r', 'r+', 'w', 'w-'/'x', 'a'. See the docs for details.\n",
      "  \n"
     ]
    }
   ],
   "source": [
    "X_train_orig, Y_train_orig, X_test_orig, Y_test_orig = load_dataset(\"train_happy.h5\",\"test_happy.h5\")\n",
    "\n",
    "# Normalize image vectors\n",
    "X_train = X_train_orig/255.\n",
    "X_test = X_test_orig/255\n",
    "\n",
    "# Reshape\n",
    "Y_train = Y_train_orig.T\n",
    "Y_test = Y_test_orig.T\n",
    "\n",
    "print (\"number of training examples = \" + str(X_train.shape[0]))\n",
    "print (\"number of test examples = \" + str(X_test.shape[0]))\n",
    "print (\"X_train shape: \" + str(X_train.shape))\n",
    "print (\"Y_train shape: \" + str(Y_train.shape))\n",
    "print (\"X_test shape: \" + str(X_test.shape))\n",
    "print (\"Y_test shape: \" + str(Y_test.shape))"
   ]
  },
  {
   "cell_type": "code",
   "execution_count": 4,
   "metadata": {
    "colab": {
     "base_uri": "https://localhost:8080/",
     "height": 304
    },
    "colab_type": "code",
    "id": "RALj5hk4gMXB",
    "outputId": "236220f5-9ab4-496b-ff54-9a3595c76b2e"
   },
   "outputs": [
    {
     "name": "stdout",
     "output_type": "stream",
     "text": [
      "Image shape : (64, 64, 3)\n"
     ]
    },
    {
     "data": {
      "text/plain": [
       "<matplotlib.image.AxesImage at 0x14aa4953a88>"
      ]
     },
     "execution_count": 4,
     "metadata": {},
     "output_type": "execute_result"
    },
    {
     "data": {
      "image/png": "[encoded data removed]",
      "text/plain": [
       "<Figure size 432x288 with 1 Axes>"
      ]
     },
     "metadata": {
      "needs_background": "light"
     },
     "output_type": "display_data"
    }
   ],
   "source": [
    "# Sample image from dataset\n",
    "print(\"Image shape :\",X_train_orig[10].shape)\n",
    "imshow(X_train_orig[10])"
   ]
  },
  {
   "cell_type": "markdown",
   "metadata": {
    "colab_type": "text",
    "id": "vQNZh4XxjCiB"
   },
   "source": [
    "# Building Model"
   ]
  },
  {
   "cell_type": "markdown",
   "metadata": {
    "colab_type": "text",
    "id": "IJJpc1lppa_m"
   },
   "source": [
    "_________________________________________________________________\n",
    "\n",
    "conv2d_3 (Conv2D)            (None, 64, 64, 32)        4736      \n",
    "_________________________________________________________________\n",
    "batch_normalization_2 (Batch (None, 64, 64, 32)        128       \n",
    "_________________________________________________________________\n",
    "max_pooling2d_2 (MaxPooling2 (None, 32, 32, 32)        0         \n",
    "_________________________________________________________________\n",
    "flatten_2 (Flatten)          (None, 32768)             0         \n",
    "_________________________________________________________________\n",
    "dense_2 (Dense)              (None, 1)                 32769     \n",
    "_________________________________________________________________\n",
    "\n"
   ]
  },
  {
   "cell_type": "code",
   "execution_count": 28,
   "metadata": {},
   "outputs": [],
   "source": [
    "happy_model = Sequential()\n",
    "## ZeroPadding2D with padding 3, input shape of 64 x 64 x 3\n",
    "#happy_model.add(ZeroPadding2D(padding=(3,3), input_shape=(64,64,3)))\n",
    "## Conv2D with 32 7x7 filters and stride of 1\n",
    "#happy_model.add(Conv2D(32, 1, strides=(1, 1), padding='valid'))\n",
    "#happy_model.add(Conv2D(32, 1, strides=(1, 1)))better\n",
    "\n",
    "#padding = same wont sub kernel size (filter height and width ) from shape (padding = valid will)\n",
    "#params = (fheight * fwidth * input_num_filters) + 1 )* num filters = 7*7*3+1)*32\n",
    "happy_model.add(Conv2D(filters = 32, kernel_size=(7, 7), input_shape=(64,64,3), activation='relu',padding='same'))\n",
    "\n",
    "#the conv2D output is\n",
    "\n",
    "## BatchNormalization for axis 3\n",
    "happy_model.add(BatchNormalization(axis = 3))\n",
    "## Max Pooling 2D with default parameters\n",
    "happy_model.add(MaxPooling2D())\n",
    "## Flatten layer\n",
    "happy_model.add(Flatten())\n",
    "## Dense layer with 1 unit for output & 'sigmoid' activation\n",
    "happy_model.add(Dense(units = 1, activation = 'sigmoid'))\n",
    "happy_model.compile(optimizer = 'adam', loss= 'binary_crossentropy',metrics=['accuracy'])"
   ]
  },
  {
   "cell_type": "code",
   "execution_count": 29,
   "metadata": {},
   "outputs": [
    {
     "name": "stdout",
     "output_type": "stream",
     "text": [
      "Epoch 1/10\n",
      "60/60 - 7s - loss: 0.8178 - accuracy: 0.7667\n",
      "Epoch 2/10\n",
      "60/60 - 5s - loss: 0.1973 - accuracy: 0.9217\n",
      "Epoch 3/10\n",
      "60/60 - 5s - loss: 0.1231 - accuracy: 0.9667\n",
      "Epoch 4/10\n",
      "60/60 - 5s - loss: 0.0964 - accuracy: 0.9683\n",
      "Epoch 5/10\n",
      "60/60 - 5s - loss: 0.1054 - accuracy: 0.9600\n",
      "Epoch 6/10\n",
      "60/60 - 5s - loss: 0.1756 - accuracy: 0.9267\n",
      "Epoch 7/10\n",
      "60/60 - 5s - loss: 0.1166 - accuracy: 0.9567\n",
      "Epoch 8/10\n",
      "60/60 - 5s - loss: 0.0566 - accuracy: 0.9800\n",
      "Epoch 9/10\n",
      "60/60 - 5s - loss: 0.0528 - accuracy: 0.9900\n",
      "Epoch 10/10\n",
      "60/60 - 5s - loss: 0.0657 - accuracy: 0.9783\n"
     ]
    }
   ],
   "source": [
    "history_happy_model = happy_model.fit(X_train, Y_train, epochs=10, verbose=2,batch_size=10)"
   ]
  },
  {
   "cell_type": "code",
   "execution_count": 30,
   "metadata": {},
   "outputs": [
    {
     "name": "stdout",
     "output_type": "stream",
     "text": [
      "Model: \"sequential_12\"\n",
      "_________________________________________________________________\n",
      "Layer (type)                 Output Shape              Param #   \n",
      "=================================================================\n",
      "conv2d_10 (Conv2D)           (None, 64, 64, 32)        4736      \n",
      "_________________________________________________________________\n",
      "batch_normalization_9 (Batch (None, 64, 64, 32)        128       \n",
      "_________________________________________________________________\n",
      "max_pooling2d_9 (MaxPooling2 (None, 32, 32, 32)        0         \n",
      "_________________________________________________________________\n",
      "flatten_9 (Flatten)          (None, 32768)             0         \n",
      "_________________________________________________________________\n",
      "dense_9 (Dense)              (None, 1)                 32769     \n",
      "=================================================================\n",
      "Total params: 37,633\n",
      "Trainable params: 37,569\n",
      "Non-trainable params: 64\n",
      "_________________________________________________________________\n"
     ]
    }
   ],
   "source": [
    "happy_model.summary()"
   ]
  },
  {
   "cell_type": "code",
   "execution_count": 31,
   "metadata": {},
   "outputs": [
    {
     "data": {
      "text/plain": [
       "<matplotlib.legend.Legend at 0x14aa4df9108>"
      ]
     },
     "execution_count": 31,
     "metadata": {},
     "output_type": "execute_result"
    },
    {
     "data": {
      "image/png": "[encoded data removed]",
      "text/plain": [
       "<Figure size 432x288 with 1 Axes>"
      ]
     },
     "metadata": {
      "needs_background": "light"
     },
     "output_type": "display_data"
    }
   ],
   "source": [
    "train_accuracy = history_happy_model.history['accuracy']\n",
    "train_loss = history_happy_model.history['loss']\n",
    "\n",
    "count = range(len(train_accuracy))\n",
    "plt.plot(count, train_accuracy, label='Training accuracy')\n",
    "plt.plot(count, train_loss, label='Training Loss')\n",
    "plt.title('epochs vs Training Loss')\n",
    "plt.legend()"
   ]
  },
  {
   "cell_type": "code",
   "execution_count": 32,
   "metadata": {},
   "outputs": [
    {
     "name": "stdout",
     "output_type": "stream",
     "text": [
      "5/5 [==============================] - 1s 65ms/step - loss: 0.1094 - accuracy: 0.9600\n"
     ]
    },
    {
     "data": {
      "text/plain": [
       "[0.10938334465026855, 0.9599999785423279]"
      ]
     },
     "execution_count": 32,
     "metadata": {},
     "output_type": "execute_result"
    }
   ],
   "source": [
    "happy_model.evaluate(X_test, Y_test)"
   ]
  },
  {
   "cell_type": "markdown",
   "metadata": {},
   "source": [
    "# using zeropadding2D optimizer"
   ]
  },
  {
   "cell_type": "code",
   "execution_count": 14,
   "metadata": {},
   "outputs": [
    {
     "name": "stdout",
     "output_type": "stream",
     "text": [
      "Epoch 1/10\n",
      "60/60 - 7s - loss: 1.2031 - accuracy: 0.7550\n",
      "Epoch 2/10\n",
      "60/60 - 6s - loss: 0.2492 - accuracy: 0.9133\n",
      "Epoch 3/10\n",
      "60/60 - 6s - loss: 0.2929 - accuracy: 0.9083\n",
      "Epoch 4/10\n",
      "60/60 - 5s - loss: 0.1739 - accuracy: 0.9533\n",
      "Epoch 5/10\n",
      "60/60 - 5s - loss: 0.0723 - accuracy: 0.9750\n",
      "Epoch 6/10\n",
      "60/60 - 5s - loss: 0.1804 - accuracy: 0.9483\n",
      "Epoch 7/10\n",
      "60/60 - 5s - loss: 0.1503 - accuracy: 0.9450\n",
      "Epoch 8/10\n",
      "60/60 - 5s - loss: 0.1259 - accuracy: 0.9617\n",
      "Epoch 9/10\n",
      "60/60 - 7s - loss: 0.0731 - accuracy: 0.9867\n",
      "Epoch 10/10\n",
      "60/60 - 5s - loss: 0.0828 - accuracy: 0.9750\n",
      "Model: \"sequential_2\"\n",
      "_________________________________________________________________\n",
      "Layer (type)                 Output Shape              Param #   \n",
      "=================================================================\n",
      "zero_padding2d (ZeroPadding2 (None, 70, 70, 3)         0         \n",
      "_________________________________________________________________\n",
      "conv2d_2 (Conv2D)            (None, 64, 64, 32)        4736      \n",
      "_________________________________________________________________\n",
      "batch_normalization_2 (Batch (None, 64, 64, 32)        128       \n",
      "_________________________________________________________________\n",
      "max_pooling2d_2 (MaxPooling2 (None, 32, 32, 32)        0         \n",
      "_________________________________________________________________\n",
      "flatten_2 (Flatten)          (None, 32768)             0         \n",
      "_________________________________________________________________\n",
      "dense_2 (Dense)              (None, 1)                 32769     \n",
      "=================================================================\n",
      "Total params: 37,633\n",
      "Trainable params: 37,569\n",
      "Non-trainable params: 64\n",
      "_________________________________________________________________\n",
      "5/5 [==============================] - 0s 51ms/step - loss: 0.8292 - accuracy: 0.7533\n"
     ]
    },
    {
     "data": {
      "text/plain": [
       "[0.8292037844657898, 0.753333330154419]"
      ]
     },
     "execution_count": 14,
     "metadata": {},
     "output_type": "execute_result"
    },
    {
     "data": {
      "image/png": "[encoded data removed]",
      "text/plain": [
       "<Figure size 432x288 with 1 Axes>"
      ]
     },
     "metadata": {
      "needs_background": "light"
     },
     "output_type": "display_data"
    }
   ],
   "source": [
    "happy_model = Sequential()\n",
    "\n",
    "## ZeroPadding2D with padding 3, input shape of 64 x 64 x 3\n",
    "happy_model.add(ZeroPadding2D(padding=(3,3), input_shape=(64,64,3)))\n",
    "\n",
    "## Conv2D with 32 7x7 filters and stride of 1\n",
    "happy_model.add(Conv2D(32, 7, strides=(1, 1), padding='valid'))\n",
    "            \n",
    "## BatchNormalization for axis 3\n",
    "happy_model.add(BatchNormalization(axis = 3))\n",
    "\n",
    "## Max Pooling 2D with default parameters\n",
    "happy_model.add(MaxPooling2D())\n",
    "            \n",
    "## Flatten layer\n",
    "happy_model.add(Flatten())\n",
    "\n",
    "## Dense layer with 1 unit for output & 'sigmoid' activation\n",
    "happy_model.add(Dense(units = 1, activation = 'sigmoid'))\n",
    "\n",
    "happy_model.compile(optimizer = 'adam', loss= 'binary_crossentropy',metrics=['accuracy'])\n",
    "\n",
    "history_happy_model = happy_model.fit(X_train, Y_train, epochs=10, verbose=2,batch_size=10)\n",
    "\n",
    "happy_model.summary()\n",
    "\n",
    "train_accuracy = history_happy_model.history['accuracy']\n",
    "train_loss = history_happy_model.history['loss']\n",
    "\n",
    "count = range(len(train_accuracy))\n",
    "plt.plot(count, train_accuracy, label='Training accuracy')\n",
    "plt.plot(count, train_loss, label='Training Loss')\n",
    "plt.title('epochs vs Training Loss')\n",
    "plt.legend()\n",
    "\n",
    "happy_model.evaluate(X_test, Y_test)"
   ]
  },
  {
   "cell_type": "markdown",
   "metadata": {},
   "source": [
    "# using rmsprop opt"
   ]
  },
  {
   "cell_type": "markdown",
   "metadata": {},
   "source": [
    "###  BEST MODEL EVAL_ACC= 95%"
   ]
  },
  {
   "cell_type": "code",
   "execution_count": 15,
   "metadata": {},
   "outputs": [
    {
     "name": "stdout",
     "output_type": "stream",
     "text": [
      "Epoch 1/10\n",
      "60/60 - 7s - loss: 4.0153 - accuracy: 0.6250\n",
      "Epoch 2/10\n",
      "60/60 - 5s - loss: 1.2496 - accuracy: 0.8383\n",
      "Epoch 3/10\n",
      "60/60 - 5s - loss: 1.1499 - accuracy: 0.8450\n",
      "Epoch 4/10\n",
      "60/60 - 5s - loss: 0.9659 - accuracy: 0.8683\n",
      "Epoch 5/10\n",
      "60/60 - 5s - loss: 0.5931 - accuracy: 0.9133\n",
      "Epoch 6/10\n",
      "60/60 - 6s - loss: 0.5589 - accuracy: 0.9317\n",
      "Epoch 7/10\n",
      "60/60 - 6s - loss: 0.4963 - accuracy: 0.9350\n",
      "Epoch 8/10\n",
      "60/60 - 6s - loss: 0.4273 - accuracy: 0.9417\n",
      "Epoch 9/10\n",
      "60/60 - 6s - loss: 0.3360 - accuracy: 0.9600\n",
      "Epoch 10/10\n",
      "60/60 - 6s - loss: 0.3254 - accuracy: 0.9583\n",
      "Model: \"sequential_3\"\n",
      "_________________________________________________________________\n",
      "Layer (type)                 Output Shape              Param #   \n",
      "=================================================================\n",
      "zero_padding2d_1 (ZeroPaddin (None, 70, 70, 3)         0         \n",
      "_________________________________________________________________\n",
      "conv2d_3 (Conv2D)            (None, 64, 64, 32)        4736      \n",
      "_________________________________________________________________\n",
      "batch_normalization_3 (Batch (None, 64, 64, 32)        128       \n",
      "_________________________________________________________________\n",
      "max_pooling2d_3 (MaxPooling2 (None, 32, 32, 32)        0         \n",
      "_________________________________________________________________\n",
      "flatten_3 (Flatten)          (None, 32768)             0         \n",
      "_________________________________________________________________\n",
      "dense_3 (Dense)              (None, 1)                 32769     \n",
      "=================================================================\n",
      "Total params: 37,633\n",
      "Trainable params: 37,569\n",
      "Non-trainable params: 64\n",
      "_________________________________________________________________\n",
      "5/5 [==============================] - 0s 60ms/step - loss: 0.2987 - accuracy: 0.9533\n"
     ]
    },
    {
     "data": {
      "text/plain": [
       "[0.2986798584461212, 0.95333331823349]"
      ]
     },
     "execution_count": 15,
     "metadata": {},
     "output_type": "execute_result"
    },
    {
     "data": {
      "image/png": "[encoded data removed]",
      "text/plain": [
       "<Figure size 432x288 with 1 Axes>"
      ]
     },
     "metadata": {
      "needs_background": "light"
     },
     "output_type": "display_data"
    }
   ],
   "source": [
    "happy_model = Sequential()\n",
    "\n",
    "## ZeroPadding2D with padding 3, input shape of 64 x 64 x 3\n",
    "happy_model.add(ZeroPadding2D(padding=(3,3), input_shape=(64,64,3)))\n",
    "\n",
    "## Conv2D with 32 7x7 filters and stride of 1\n",
    "happy_model.add(Conv2D(32, 7, strides=(1, 1), padding='valid'))\n",
    "            \n",
    "## BatchNormalization for axis 3\n",
    "happy_model.add(BatchNormalization(axis = 3))\n",
    "\n",
    "## Max Pooling 2D with default parameters\n",
    "happy_model.add(MaxPooling2D())\n",
    "            \n",
    "## Flatten layer\n",
    "happy_model.add(Flatten())\n",
    "\n",
    "## Dense layer with 1 unit for output & 'sigmoid' activation\n",
    "happy_model.add(Dense(units = 1, activation = 'sigmoid'))\n",
    "\n",
    "happy_model.compile(optimizer = 'rmsprop', loss= 'binary_crossentropy',metrics=['accuracy'])\n",
    "\n",
    "history_happy_model = happy_model.fit(X_train, Y_train, epochs=10, verbose=2,batch_size=10)\n",
    "\n",
    "happy_model.summary()\n",
    "\n",
    "train_accuracy = history_happy_model.history['accuracy']\n",
    "train_loss = history_happy_model.history['loss']\n",
    "\n",
    "count = range(len(train_accuracy))\n",
    "plt.plot(count, train_accuracy, label='Training accuracy')\n",
    "plt.plot(count, train_loss, label='Training Loss')\n",
    "plt.title('epochs vs Training Loss')\n",
    "plt.legend()\n",
    "\n",
    "happy_model.evaluate(X_test, Y_test)"
   ]
  },
  {
   "cell_type": "markdown",
   "metadata": {},
   "source": [
    "# other"
   ]
  },
  {
   "cell_type": "code",
   "execution_count": 7,
   "metadata": {
    "colab": {},
    "colab_type": "code",
    "id": "j1YT0k2rkvAM"
   },
   "outputs": [],
   "source": [
    "model = Sequential()\n",
    "model.add(Conv2D(filters=32, kernel_size=(3,3), activation='relu', padding='Same', input_shape=(64,64,3)))\n",
    "model.add(Conv2D(filters=64, kernel_size=(3,3), activation='relu', padding='Same'))\n",
    "\n",
    "model.add(MaxPooling2D(pool_size=(2,2)))\n",
    "\n",
    "model.add(Conv2D(filters=128, kernel_size=(3,3), activation='relu', padding='Same'))\n",
    "\n",
    "model.add(MaxPooling2D(pool_size=(2,2)))\n",
    "\n",
    "model.add(Flatten())\n",
    "\n",
    "model.add(Dense(128, activation='relu'))\n",
    "model.add(Dropout(0.2))\n",
    "model.add(Dense(1, activation='sigmoid'))"
   ]
  },
  {
   "cell_type": "code",
   "execution_count": 8,
   "metadata": {
    "colab": {},
    "colab_type": "code",
    "id": "3CtQ3d7pmdEU"
   },
   "outputs": [],
   "source": [
    "model.compile(optimizer='rmsprop', loss='binary_crossentropy', metrics=[\"accuracy\"])"
   ]
  },
  {
   "cell_type": "code",
   "execution_count": 9,
   "metadata": {
    "colab": {
     "base_uri": "https://localhost:8080/",
     "height": 196
    },
    "colab_type": "code",
    "id": "JJzOsVQnmsz0",
    "outputId": "2e3656cd-a67e-42d0-9ce7-f358aebb75b7"
   },
   "outputs": [
    {
     "name": "stdout",
     "output_type": "stream",
     "text": [
      "Epoch 1/5\n",
      "600/600 - 63s - loss: 0.8153 - accuracy: 0.5333\n",
      "Epoch 2/5\n",
      "600/600 - 59s - loss: 0.4663 - accuracy: 0.8183\n",
      "Epoch 3/5\n",
      "600/600 - 69s - loss: 0.3028 - accuracy: 0.9083\n",
      "Epoch 4/5\n",
      "600/600 - 77s - loss: 0.2315 - accuracy: 0.9333\n",
      "Epoch 5/5\n",
      "600/600 - 80s - loss: 0.1900 - accuracy: 0.9467\n"
     ]
    }
   ],
   "source": [
    "history_model = model.fit(X_train, Y_train, epochs=5, verbose=2,batch_size=1)"
   ]
  },
  {
   "cell_type": "markdown",
   "metadata": {
    "colab_type": "text",
    "id": "MZFI90ydpx0n"
   },
   "source": [
    "# Evaluate / Test"
   ]
  },
  {
   "cell_type": "code",
   "execution_count": 10,
   "metadata": {
    "colab": {
     "base_uri": "https://localhost:8080/",
     "height": 299
    },
    "colab_type": "code",
    "id": "xV8Jav30myg0",
    "outputId": "2b6d9f46-94b0-40bd-a200-897c20127007"
   },
   "outputs": [
    {
     "data": {
      "text/plain": [
       "<matplotlib.legend.Legend at 0x2dd4f2aa7c8>"
      ]
     },
     "execution_count": 10,
     "metadata": {},
     "output_type": "execute_result"
    },
    {
     "data": {
      "image/png": "[encoded data removed]",
      "text/plain": [
       "<Figure size 432x288 with 1 Axes>"
      ]
     },
     "metadata": {
      "needs_background": "light"
     },
     "output_type": "display_data"
    }
   ],
   "source": [
    "train_accuracy = history_model.history['accuracy']\n",
    "train_loss = history_model.history['loss']\n",
    "\n",
    "count = range(len(train_accuracy))\n",
    "plt.plot(count, train_accuracy, label='Training accuracy')\n",
    "plt.plot(count, train_loss, label='Training Loss')\n",
    "plt.title('epochs vs Training Loss')\n",
    "plt.legend()"
   ]
  },
  {
   "cell_type": "markdown",
   "metadata": {
    "colab_type": "text",
    "id": "gBOEETB6qD3L"
   },
   "source": [
    "Evaluate Test set"
   ]
  },
  {
   "cell_type": "code",
   "execution_count": 11,
   "metadata": {
    "colab": {},
    "colab_type": "code",
    "id": "VNuzxr58m6bI"
   },
   "outputs": [
    {
     "name": "stdout",
     "output_type": "stream",
     "text": [
      "5/5 [==============================] - 13s 169ms/step - loss: 0.3242 - accuracy: 0.9267\n"
     ]
    },
    {
     "data": {
      "text/plain": [
       "[0.32416853308677673, 0.9266666769981384]"
      ]
     },
     "execution_count": 11,
     "metadata": {},
     "output_type": "execute_result"
    }
   ],
   "source": [
    "model.evaluate(X_test, Y_test)"
   ]
  },
  {
   "cell_type": "markdown",
   "metadata": {
    "colab_type": "text",
    "id": "hFC1nz5_p33b"
   },
   "source": [
    "Confusion Matrix"
   ]
  },
  {
   "cell_type": "code",
   "execution_count": 0,
   "metadata": {
    "colab": {},
    "colab_type": "code",
    "id": "iflIgFgnnIfv"
   },
   "outputs": [],
   "source": [
    "# Code Here"
   ]
  },
  {
   "cell_type": "markdown",
   "metadata": {
    "colab_type": "text",
    "id": "QQKL1aDLqjqU"
   },
   "source": [
    "# Note\n",
    "\n",
    "Before you submit your work \n",
    "\n",
    "* You should compare different optimizers\n",
    "\n",
    "---\n",
    "\n",
    "* Display images with Predicted & expected labels (Happy-sad)\n"
   ]
  },
  {
   "cell_type": "code",
   "execution_count": 0,
   "metadata": {
    "colab": {},
    "colab_type": "code",
    "id": "EW_BaM-9p69t"
   },
   "outputs": [],
   "source": []
  }
 ],
 "metadata": {
  "colab": {
   "collapsed_sections": [],
   "name": "ToDo_CP_Happy house.ipynb",
   "provenance": []
  },
  "kernelspec": {
   "display_name": "Python 3",
   "language": "python",
   "name": "python3"
  },
  "language_info": {
   "codemirror_mode": {
    "name": "ipython",
    "version": 3
   },
   "file_extension": ".py",
   "mimetype": "text/x-python",
   "name": "python",
   "nbconvert_exporter": "python",
   "pygments_lexer": "ipython3",
   "version": "3.7.6"
  }
 },
 "nbformat": 4,
 "nbformat_minor": 1
}
